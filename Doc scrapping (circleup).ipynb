{
 "cells": [
  {
   "cell_type": "code",
   "execution_count": 4,
   "metadata": {},
   "outputs": [],
   "source": [
    "import docx\n",
    "import re\n",
    "import xlsxwriter\n",
    "import cv2\n",
    "import fnmatch\n",
    "import numpy as np\n",
    "import pandas as pd\n",
    "import pytesseract\n",
    "from wand.image import Image as wi\n",
    "import os\n",
    "import matplotlib.pyplot as plt\n",
    "import PyPDF2\n",
    "pytesseract.pytesseract.tesseract_cmd = r\"C:\\Users\\caio.santos\\AppData\\Local\\Tesseract-OCR\\tesseract.exe\"\n"
   ]
  },
  {
   "cell_type": "code",
   "execution_count": null,
   "metadata": {},
   "outputs": [],
   "source": []
  },
  {
   "cell_type": "code",
   "execution_count": 5,
   "metadata": {},
   "outputs": [],
   "source": [
    "\n",
    "def extnum_from_DF(df):\n",
    "    rex1 = re.compile('R\\$\\s?\\d+?\\,?\\d?\\d?\\d?\\.?\\d?\\d?\\sm?b?illion')\n",
    "    rex2 = re.compile('\\d+?\\.?\\d?\\d?\\%')\n",
    "    dic = []\n",
    "\n",
    "    for t in df['Texto']:\n",
    "        lis = []\n",
    "        if rex1.search(t):\n",
    "\n",
    "            for num in rex1.findall(t):\n",
    "                lis.append(num)\n",
    "        if rex2.search(t):\n",
    "            for num in rex2.findall(t):\n",
    "                lis.append(num)\n",
    "\n",
    "        dic.append(lis)\n",
    "\n",
    "    return df.join(pd.DataFrame(dic))\n",
    "\n",
    "\n",
    "def doc_to_excel(filepath, excelname,padrão=None):\n",
    "    doc = docx.Document(filepath)\n",
    "    excel = xlsxwriter.Workbook(excelname + '.xlsx')\n",
    "    sh = excel.add_worksheet()\n",
    "    row = 0\n",
    "\n",
    "    if padrão == None:\n",
    "        rex1 = re.compile('R\\$\\s?\\d+?\\,?\\d?\\d?\\d?\\.?\\d?\\d?\\sm?b?illion')\n",
    "        rex2 = re.compile('\\d+?\\.?\\d?\\d?\\%')\n",
    "        for p in doc.paragraphs:\n",
    "            col = 0\n",
    "\n",
    "            if rex1.search(p.text):\n",
    "                row += 1\n",
    "                sh.write(row-1, col, p.text)\n",
    "\n",
    "\n",
    "                for num in rex1.findall(p.text):\n",
    "                    col += 1\n",
    "                    sh.write(row-1, col, num)\n",
    "\n",
    "                if rex2.search(p.text):\n",
    "                    for num in rex2.findall(p.text):\n",
    "                        col += 1\n",
    "                        sh.write(row-1, col, num)\n",
    "\n",
    "    else:\n",
    "        if padrão == 'R$':\n",
    "            rex = re.compile('R\\$\\s?\\d+?\\,?\\d?\\d?\\d?\\.?\\d?\\d?\\sm?b?illion')\n",
    "\n",
    "        if padrão == '%':\n",
    "            rex = re.compile('\\d+?\\.?\\d?\\d?\\%')\n",
    "\n",
    "        for p in doc.paragraphs:\n",
    "            col = 0\n",
    "            if rex.search(p.text):\n",
    "                row += 1\n",
    "                sh.write(row-1, col, p.text)\n",
    "\n",
    "                for num in rex.findall(p.text):\n",
    "                    col += 1\n",
    "                    sh.write(row-1, col, num)\n",
    "\n",
    "\n",
    "    excel.close()\n",
    "\n",
    "def table_to_excel(filepath, excelname, tableindex):\n",
    "    doc = docx.Document(filepath)\n",
    "    excel = xlsxwriter.Workbook(excelname + '.xlsx')\n",
    "    r = 0\n",
    "\n",
    "    if tableindex == 'all':\n",
    "        for t in doc.tables:\n",
    "            r = 0\n",
    "            sh = excel.add_worksheet()\n",
    "            for row in t.rows:\n",
    "                r += 1\n",
    "                c = 0\n",
    "                for cel in row.cells:\n",
    "                    for p in cel.paragraphs:\n",
    "                        sh.write(r, c, p.text)\n",
    "                        c += 1\n",
    "\n",
    "        excel.close()\n",
    "        \n",
    "    elif type(tableindex) == list:\n",
    "        for t in tableindex:\n",
    "            tb = doc.tables[t]\n",
    "            sh = excel.add_worksheet()\n",
    "            for row in tb.rows:\n",
    "                r += 1\n",
    "                c = 0\n",
    "                for cel in row.cells:\n",
    "                    for p in cel.paragraphs:\n",
    "                        sh.write(r, c, p.text)\n",
    "                        c += 1\n",
    "\n",
    "            \n",
    "    else:\n",
    "        t = doc.tables[tableindex]\n",
    "        sh = excel.add_worksheet()\n",
    "        for row in t.rows:\n",
    "            r += 1\n",
    "            c = 0\n",
    "            for cel in row.cells:\n",
    "                for p in cel.paragraphs:\n",
    "                    sh.write(r, c, p.text)\n",
    "                    c += 1\n",
    "\n",
    "    excel.close()\n",
    "\n"
   ]
  },
  {
   "cell_type": "code",
   "execution_count": 6,
   "metadata": {},
   "outputs": [],
   "source": [
    "doc = r\"C:\\Users\\caio.santos\\Documents\\OFFERING\\Orobó\\FR\\Projeto Orobó - FRE (23.9.2019).docx\""
   ]
  },
  {
   "cell_type": "code",
   "execution_count": 7,
   "metadata": {},
   "outputs": [],
   "source": [
    "doc_to_excel(doc, r'C:\\Users\\caio.santos\\Documents\\eitaa')"
   ]
  },
  {
   "cell_type": "code",
   "execution_count": 137,
   "metadata": {},
   "outputs": [],
   "source": [
    "file = r\"C:\\Users\\caio.santos\\Desktop\\LSP\\OM\\Tera - eRed_Tera_Preliminary OM_English.pdf\""
   ]
  },
  {
   "cell_type": "code",
   "execution_count": null,
   "metadata": {},
   "outputs": [],
   "source": [
    "\n"
   ]
  },
  {
   "cell_type": "code",
   "execution_count": 138,
   "metadata": {},
   "outputs": [],
   "source": [
    "page = []\n",
    "cont = []"
   ]
  },
  {
   "cell_type": "code",
   "execution_count": 139,
   "metadata": {},
   "outputs": [],
   "source": [
    "pdf = PyPDF2.PdfFileReader(file,'rb')\n",
    "nump = pdf.getNumPages()\n"
   ]
  },
  {
   "cell_type": "code",
   "execution_count": 140,
   "metadata": {},
   "outputs": [],
   "source": [
    "for p in range(nump):\n",
    "    text = pdf.getPage(p).extractText()\n",
    "    page.append(p)\n",
    "    cont.append(text)"
   ]
  },
  {
   "cell_type": "code",
   "execution_count": 141,
   "metadata": {},
   "outputs": [],
   "source": [
    "dic = {'page':page, 'conteudo':cont}"
   ]
  },
  {
   "cell_type": "code",
   "execution_count": 142,
   "metadata": {},
   "outputs": [],
   "source": [
    "df = pd.DataFrame(dic)"
   ]
  },
  {
   "cell_type": "code",
   "execution_count": 143,
   "metadata": {},
   "outputs": [],
   "source": [
    "page=[]\n",
    "text=[]\n",
    "\n",
    "rex = re.compile(r'\\n')\n",
    "for p in range(len(df)):\n",
    "    string = df['conteudo'][p]\n",
    "    for line in string.splitlines():\n",
    "        page.append(p)\n",
    "        text.append(line)\n",
    "    \n",
    "\n",
    "\n",
    "\n",
    "\n",
    "    "
   ]
  },
  {
   "cell_type": "code",
   "execution_count": 144,
   "metadata": {},
   "outputs": [],
   "source": [
    "dic = dict(page=page,text=text)"
   ]
  },
  {
   "cell_type": "code",
   "execution_count": 145,
   "metadata": {},
   "outputs": [],
   "source": [
    "df2 = pd.DataFrame(dic)\n",
    "size=[]\n",
    "for s in df2['text']:\n",
    "    size.append(len(s))\n",
    "df2['size'] = size"
   ]
  },
  {
   "cell_type": "code",
   "execution_count": 146,
   "metadata": {},
   "outputs": [],
   "source": [
    "df2 = df2[df2['size']>180]"
   ]
  },
  {
   "cell_type": "code",
   "execution_count": 147,
   "metadata": {},
   "outputs": [
    {
     "data": {
      "text/html": [
       "<div>\n",
       "<style scoped>\n",
       "    .dataframe tbody tr th:only-of-type {\n",
       "        vertical-align: middle;\n",
       "    }\n",
       "\n",
       "    .dataframe tbody tr th {\n",
       "        vertical-align: top;\n",
       "    }\n",
       "\n",
       "    .dataframe thead th {\n",
       "        text-align: right;\n",
       "    }\n",
       "</style>\n",
       "<table border=\"1\" class=\"dataframe\">\n",
       "  <thead>\n",
       "    <tr style=\"text-align: right;\">\n",
       "      <th></th>\n",
       "      <th>page</th>\n",
       "      <th>text</th>\n",
       "      <th>size</th>\n",
       "    </tr>\n",
       "  </thead>\n",
       "  <tbody>\n",
       "    <tr>\n",
       "      <td>0</td>\n",
       "      <td>0</td>\n",
       "      <td>The information in this preliminary offering...</td>\n",
       "      <td>307</td>\n",
       "    </tr>\n",
       "  </tbody>\n",
       "</table>\n",
       "</div>"
      ],
      "text/plain": [
       "   page                                               text  size\n",
       "0     0    The information in this preliminary offering...   307"
      ]
     },
     "execution_count": 147,
     "metadata": {},
     "output_type": "execute_result"
    }
   ],
   "source": [
    "df2"
   ]
  },
  {
   "cell_type": "code",
   "execution_count": null,
   "metadata": {},
   "outputs": [],
   "source": []
  }
 ],
 "metadata": {
  "kernelspec": {
   "display_name": "Python 3",
   "language": "python",
   "name": "python3"
  },
  "language_info": {
   "codemirror_mode": {
    "name": "ipython",
    "version": 3
   },
   "file_extension": ".py",
   "mimetype": "text/x-python",
   "name": "python",
   "nbconvert_exporter": "python",
   "pygments_lexer": "ipython3",
   "version": "3.7.4"
  }
 },
 "nbformat": 4,
 "nbformat_minor": 2
}
