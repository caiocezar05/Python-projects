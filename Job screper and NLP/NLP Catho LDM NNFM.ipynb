{
 "cells": [
  {
   "cell_type": "code",
   "execution_count": 1,
   "metadata": {},
   "outputs": [],
   "source": [
    "import pandas as pd\n",
    "import numpy as np\n",
    "from sklearn.feature_extraction.text import CountVectorizer,TfidfVectorizer\n",
    "from sklearn.decomposition import NMF, LatentDirichletAllocation\n",
    "import string\n",
    "from nltk.stem import WordNetLemmatizer\n",
    "from nltk import word_tokenize  "
   ]
  },
  {
   "cell_type": "code",
   "execution_count": 6,
   "metadata": {},
   "outputs": [],
   "source": [
    "df = pd.read_excel(\"Petshop.xlsx\")\n",
    "#df = df.dropna()"
   ]
  },
  {
   "cell_type": "code",
   "execution_count": 7,
   "metadata": {},
   "outputs": [
    {
     "data": {
      "text/html": [
       "<div>\n",
       "<style scoped>\n",
       "    .dataframe tbody tr th:only-of-type {\n",
       "        vertical-align: middle;\n",
       "    }\n",
       "\n",
       "    .dataframe tbody tr th {\n",
       "        vertical-align: top;\n",
       "    }\n",
       "\n",
       "    .dataframe thead th {\n",
       "        text-align: right;\n",
       "    }\n",
       "</style>\n",
       "<table border=\"1\" class=\"dataframe\">\n",
       "  <thead>\n",
       "    <tr style=\"text-align: right;\">\n",
       "      <th></th>\n",
       "      <th>Unnamed: 0</th>\n",
       "      <th>title</th>\n",
       "      <th>descrição</th>\n",
       "      <th>local</th>\n",
       "      <th>salario</th>\n",
       "      <th>link</th>\n",
       "      <th>descrição completa</th>\n",
       "    </tr>\n",
       "  </thead>\n",
       "  <tbody>\n",
       "    <tr>\n",
       "      <th>0</th>\n",
       "      <td>0</td>\n",
       "      <td>Banhista</td>\n",
       "      <td>Realizar banhos em cachorros e gatos, atendim...</td>\n",
       "      <td>NaN</td>\n",
       "      <td>NaN</td>\n",
       "      <td>https://www.catho.com.br/vagas/banhista/202352...</td>\n",
       "      <td>Realizar banhos em cachorros e gatos, atendime...</td>\n",
       "    </tr>\n",
       "    <tr>\n",
       "      <th>1</th>\n",
       "      <td>1</td>\n",
       "      <td>Banhista e Tosador</td>\n",
       "      <td>Organizar o ambiente de trabalho, por meio da...</td>\n",
       "      <td>NaN</td>\n",
       "      <td>NaN</td>\n",
       "      <td>https://www.catho.com.br/vagas/banhista-e-tosa...</td>\n",
       "      <td>Organizar o ambiente de trabalho, por meio da ...</td>\n",
       "    </tr>\n",
       "    <tr>\n",
       "      <th>2</th>\n",
       "      <td>2</td>\n",
       "      <td>Banhista E Tosador</td>\n",
       "      <td>Se você é descomplicado, apaixonado por pet, ...</td>\n",
       "      <td>NaN</td>\n",
       "      <td>NaN</td>\n",
       "      <td>https://www.catho.com.br/vagas/banhista-e-tosa...</td>\n",
       "      <td>Se você é descomplicado, apaixonado por pet, p...</td>\n",
       "    </tr>\n",
       "    <tr>\n",
       "      <th>3</th>\n",
       "      <td>3</td>\n",
       "      <td>Banhista - Pet Shop</td>\n",
       "      <td>Atuará com banho e cuidados com higiene dos a...</td>\n",
       "      <td>NaN</td>\n",
       "      <td>NaN</td>\n",
       "      <td>https://www.catho.com.br/vagas/banhista-pet-sh...</td>\n",
       "      <td>Atuará com banho e cuidados com higiene dos an...</td>\n",
       "    </tr>\n",
       "    <tr>\n",
       "      <th>4</th>\n",
       "      <td>4</td>\n",
       "      <td>Banhistas - Pet Shop</td>\n",
       "      <td>Responsável pelo banho e secagem dos animais,...</td>\n",
       "      <td>NaN</td>\n",
       "      <td>NaN</td>\n",
       "      <td>https://www.catho.com.br/vagas/banhistas-pet-s...</td>\n",
       "      <td>Responsável pelo banho e secagem dos animais, ...</td>\n",
       "    </tr>\n",
       "    <tr>\n",
       "      <th>...</th>\n",
       "      <td>...</td>\n",
       "      <td>...</td>\n",
       "      <td>...</td>\n",
       "      <td>...</td>\n",
       "      <td>...</td>\n",
       "      <td>...</td>\n",
       "      <td>...</td>\n",
       "    </tr>\n",
       "    <tr>\n",
       "      <th>88</th>\n",
       "      <td>88</td>\n",
       "      <td>Gerente de Loja</td>\n",
       "      <td>Gerenciamento de loja de departamentos do ram...</td>\n",
       "      <td>NaN</td>\n",
       "      <td>NaN</td>\n",
       "      <td>https://www.catho.com.br/vagas/gerente-de-loja...</td>\n",
       "      <td>Gerenciamento de loja de departamentos do ramo...</td>\n",
       "    </tr>\n",
       "    <tr>\n",
       "      <th>89</th>\n",
       "      <td>89</td>\n",
       "      <td>Vendedor</td>\n",
       "      <td>Atuará na área de vendas, e sedempenhará as a...</td>\n",
       "      <td>NaN</td>\n",
       "      <td>NaN</td>\n",
       "      <td>https://www.catho.com.br/vagas/vendedor/201886...</td>\n",
       "      <td>Atuará na área de vendas, e sedempenhará as at...</td>\n",
       "    </tr>\n",
       "    <tr>\n",
       "      <th>90</th>\n",
       "      <td>90</td>\n",
       "      <td>Vendedor</td>\n",
       "      <td>Atendimento ao cliente, venda de produtos par...</td>\n",
       "      <td>NaN</td>\n",
       "      <td>NaN</td>\n",
       "      <td>https://www.catho.com.br/vagas/vendedor/202308...</td>\n",
       "      <td>Atendimento ao cliente, venda de produtos para...</td>\n",
       "    </tr>\n",
       "    <tr>\n",
       "      <th>91</th>\n",
       "      <td>91</td>\n",
       "      <td>Representante Comercial</td>\n",
       "      <td>Irar dar continuidade no atendimento como pro...</td>\n",
       "      <td>NaN</td>\n",
       "      <td>NaN</td>\n",
       "      <td>https://www.catho.com.br/vagas/representante-c...</td>\n",
       "      <td>Irar dar continuidade no atendimento como pros...</td>\n",
       "    </tr>\n",
       "    <tr>\n",
       "      <th>92</th>\n",
       "      <td>92</td>\n",
       "      <td>Representante Comercial</td>\n",
       "      <td>Irar dar continuidade no atendimento como pro...</td>\n",
       "      <td>NaN</td>\n",
       "      <td>NaN</td>\n",
       "      <td>https://www.catho.com.br/vagas/representante-c...</td>\n",
       "      <td>Irar dar continuidade no atendimento como pros...</td>\n",
       "    </tr>\n",
       "  </tbody>\n",
       "</table>\n",
       "<p>93 rows × 7 columns</p>\n",
       "</div>"
      ],
      "text/plain": [
       "    Unnamed: 0                    title  \\\n",
       "0            0                 Banhista   \n",
       "1            1       Banhista e Tosador   \n",
       "2            2       Banhista E Tosador   \n",
       "3            3      Banhista - Pet Shop   \n",
       "4            4     Banhistas - Pet Shop   \n",
       "..         ...                      ...   \n",
       "88          88          Gerente de Loja   \n",
       "89          89                 Vendedor   \n",
       "90          90                 Vendedor   \n",
       "91          91  Representante Comercial   \n",
       "92          92  Representante Comercial   \n",
       "\n",
       "                                            descrição  local  salario  \\\n",
       "0    Realizar banhos em cachorros e gatos, atendim...    NaN      NaN   \n",
       "1    Organizar o ambiente de trabalho, por meio da...    NaN      NaN   \n",
       "2    Se você é descomplicado, apaixonado por pet, ...    NaN      NaN   \n",
       "3    Atuará com banho e cuidados com higiene dos a...    NaN      NaN   \n",
       "4    Responsável pelo banho e secagem dos animais,...    NaN      NaN   \n",
       "..                                                ...    ...      ...   \n",
       "88   Gerenciamento de loja de departamentos do ram...    NaN      NaN   \n",
       "89   Atuará na área de vendas, e sedempenhará as a...    NaN      NaN   \n",
       "90   Atendimento ao cliente, venda de produtos par...    NaN      NaN   \n",
       "91   Irar dar continuidade no atendimento como pro...    NaN      NaN   \n",
       "92   Irar dar continuidade no atendimento como pro...    NaN      NaN   \n",
       "\n",
       "                                                 link  \\\n",
       "0   https://www.catho.com.br/vagas/banhista/202352...   \n",
       "1   https://www.catho.com.br/vagas/banhista-e-tosa...   \n",
       "2   https://www.catho.com.br/vagas/banhista-e-tosa...   \n",
       "3   https://www.catho.com.br/vagas/banhista-pet-sh...   \n",
       "4   https://www.catho.com.br/vagas/banhistas-pet-s...   \n",
       "..                                                ...   \n",
       "88  https://www.catho.com.br/vagas/gerente-de-loja...   \n",
       "89  https://www.catho.com.br/vagas/vendedor/201886...   \n",
       "90  https://www.catho.com.br/vagas/vendedor/202308...   \n",
       "91  https://www.catho.com.br/vagas/representante-c...   \n",
       "92  https://www.catho.com.br/vagas/representante-c...   \n",
       "\n",
       "                                   descrição completa  \n",
       "0   Realizar banhos em cachorros e gatos, atendime...  \n",
       "1   Organizar o ambiente de trabalho, por meio da ...  \n",
       "2   Se você é descomplicado, apaixonado por pet, p...  \n",
       "3   Atuará com banho e cuidados com higiene dos an...  \n",
       "4   Responsável pelo banho e secagem dos animais, ...  \n",
       "..                                                ...  \n",
       "88  Gerenciamento de loja de departamentos do ramo...  \n",
       "89  Atuará na área de vendas, e sedempenhará as at...  \n",
       "90  Atendimento ao cliente, venda de produtos para...  \n",
       "91  Irar dar continuidade no atendimento como pros...  \n",
       "92  Irar dar continuidade no atendimento como pros...  \n",
       "\n",
       "[93 rows x 7 columns]"
      ]
     },
     "execution_count": 7,
     "metadata": {},
     "output_type": "execute_result"
    }
   ],
   "source": [
    "df"
   ]
  },
  {
   "cell_type": "code",
   "execution_count": 6,
   "metadata": {},
   "outputs": [],
   "source": [
    "#df = df[df['cargo'] == 'Analista de Controladoria']"
   ]
  },
  {
   "cell_type": "code",
   "execution_count": 8,
   "metadata": {},
   "outputs": [
    {
     "data": {
      "text/plain": [
       "93"
      ]
     },
     "execution_count": 8,
     "metadata": {},
     "output_type": "execute_result"
    }
   ],
   "source": [
    "skills = df['descrição completa']\n",
    "len(skills)"
   ]
  },
  {
   "cell_type": "code",
   "execution_count": null,
   "metadata": {},
   "outputs": [],
   "source": []
  },
  {
   "cell_type": "code",
   "execution_count": 9,
   "metadata": {},
   "outputs": [],
   "source": [
    "skills.replace(['\\n',\n",
    "                 '^.*?Expect',\n",
    "                 '^.*?Qualifications',\n",
    "                 '^.*?Required',\n",
    "                 '^.*?expected',\n",
    "                 '^.*?Responsibilities',\n",
    "                 '^.*?Requisitos',\n",
    "                 '^.*?Requirements',\n",
    "                 '^.*?Qualificações',\n",
    "                 '^.*?QualificationsRequired1',\n",
    "                 '^.*?você deve ter:',\n",
    "                 '^.*?experiência',\n",
    "                 '^.*?você:',\n",
    "                 '^.*?Desejável',\n",
    "                 '^.*?great',\n",
    "                 '^.*?Looking For',\n",
    "                 '^.*?ll Need',\n",
    "                 '^.*?Conhecimento',\n",
    "                 '^.*?se:',\n",
    "                 '^.*?habilidades',\n",
    "                 '^.*?se:',\n",
    "                 '^.*?REQUISITOS'\n",
    "                 ], '', regex=True)\n",
    "\n",
    "bad_words = ['gender', 'experience', 'application', 'Apply', 'salary', 'todos', 'os', 'company', 'identity', 'sexual', 'orientation',\n",
    "            'de', 'orientação', 'sexual', 'gênero', 'committed', 'toda', 'client', 'conhecimento',\n",
    "            'world', 'year', 'save', 'São', 'Paulo', 'information', 'e', 'orientação', 'sexual', 'equal', 'oppotunity', 'ambiente', 'will',\n",
    "            'Experiência', 'national origin', 'todas', 'work', 'de', 'da', 'years', 'pessoa', 'clients', 'Plano', 'creating',\n",
    "            'employer', 'saúde', 'em', 'working', 'pessoas', 'mais', 'data', 'people', 'dia', 'one', 'knowledges', 'plataforma',\n",
    "            'ou', 'benefício', 'para', 'software', 'opportunity', 'tecnologia', 'você', 'mais', 'solution', 'national', 'origin',\n",
    "            'trabalhar', 'option', 'negócio', 'empresa', 'o', 'sicence', 'team', 'é', 'veteran', 'status', 'etc', 'raça', 'cor', 'belive',\n",
    "            'nossa', 'uma', 'como', 'Scientist', 'ferramenta', 'projeto', 'que', 'job', 'benefícios', 'knowledge', 'toll', 's', 'modelo',\n",
    "            'desconto', 'cultura', 'serviço', 'time', 'se', 'solutions', 'mercado', 'das', 'somos', 'problema', 'mundo', 'race', 'color',\n",
    "            'vaga', 'pelo', 'ser', 'show', 'Seguro', 'Se', 'um', 'Um', 'tool', 'regard', 'without', 'make', 'ao', 'técnica', 'life',\n",
    "            'interested', 'diversidade', 'proud', 'ability', 'sobre', 'options', 'using', 'área', 'nosso', 'na', 'seu', 'product', 'produto',\n",
    "            'building', 'skill', 'model', 'religion', 'Share', 'receive', 'consideration', 'Aqui', 'vida', 'ferramentas', 'Vale', 'Refeição',\n",
    "            'Strong', 'Pay', 'range', 'available', 'part', 'trabalho', 'Alimentação', 'employment', 'qualified', 'applicants', 'gympass',\n",
    "            'está', 'comprometida', 'forma', 'Transporte', 'Yes', 'gente', 'melhor', 'lugar', 'believe', 'moment', 'próximo', 'deasafio',\n",
    "            'dos', 'oportunidade', 'idade', 'new', 'Try', 'Premium', 'deficiência', 'sempre', 'criar', 'employee', 'problemas', 'unavailable',\n",
    "            'Brasil', 'dado', 'hiring', 'trends', 'equipe', 'recent', 'temos', 'build', 'career', 'nós', 'diferencial', 'ma',\n",
    "            'total', 'oferecemos', 'contato', 'tem', 'não', 'free', 'Full','of','to','is','avançado',\n",
    "            'fazer','apuração','apurar','atuação','atuar','realização','realizar','elaoração','elaborar',\n",
    "            'planejamento','planejar','apoio','apoiar','facilidade','revisão','revisar','execução','executar',\n",
    "            'análise','analisar','validação','validar','participação','participar','confecção','confeccionar',\n",
    "            'consolidação','consolidar','desenvolvimento','desenvolver','criação','criar','auxílio','avançado','intermediário'\n",
    "            'auxiliar','acompanhamento','acompanhar','controle','controlar','revisão','revisar','básico','fluente',\n",
    "            'formação','formação','formar','graduação','graduar','superior','cursar','cursando','graduação','graduar',\n",
    "            'vivencia','vivência','atuar','atuação','experiencia','experiência','conhecimento','conhecer','habilidade',\n",
    "            'capacidade','entendimento','entender','facilidade','avançado','intermediário','intermediario','basico']"
   ]
  },
  {
   "cell_type": "code",
   "execution_count": 10,
   "metadata": {},
   "outputs": [],
   "source": [
    "#stop words\n",
    "stopw = 'de a o que e do da em um para é com não uma os no se na por mais as dos como mas foi ao ele das tem à seu sua ou ser quando muito há nos já está eu também só pelo pela até isso ela entre era depois sem mesmo aos ter seus quem nas me esse eles estão você tinha foram essa num nem suas meu às minha têm numa pelos elas havia seja qual será nós tenho lhe deles essas esses pelas este fosse dele tu te vocês vos lhes meus minhas teu tua teus tuas nosso nossa nossos nossas dela delas esta estes estas aquele aquela aqueles aquelas isto aquilo estou está estamos estão estive esteve estivemos estiveram estava estávamos estavam estivera estivéramos esteja estejamos estejam estivesse estivéssemos estivessem estiver estivermos estiverem hei há havemos hão houve houvemos houveram houvera houvéramos haja hajamos hajam houvesse houvéssemos houvessem houver houvermos houverem houverei houverá houveremos houverão houveria houveríamos houveriam sou somos são era éramos eram fui foi fomos foram fora fôramos seja sejamos sejam fosse fôssemos fossem for formos forem serei será seremos serão seria seríamos seriam tenho tem temos tém tinha tínhamos tinham tive teve tivemos tiveram tivera tivéramos tenha tenhamos tenham tivesse tivéssemos tivessem tiver tivermos tiverem terei terá teremos terão teria teríamos teriam'.split()\n",
    "\n",
    "stopw = [*stopw,*bad_words]"
   ]
  },
  {
   "cell_type": "code",
   "execution_count": 11,
   "metadata": {},
   "outputs": [],
   "source": [
    "def tokenize(text):\n",
    "    WNLTokens = []\n",
    "    chars = []\n",
    "    \n",
    "    WNLemmatizer = WordNetLemmatizer()\n",
    "    for ch in text:\n",
    "        if ch not in string.punctuation:\n",
    "            chars.append(ch)\n",
    "        else:\n",
    "            chars.append(' ')\n",
    "    txt = ''.join(chars)        \n",
    "        \n",
    "    tokens = word_tokenize(txt)\n",
    "    for t in tokens:\n",
    "        WNLTokens.append(WNLemmatizer.lemmatize(t))\n",
    "    \n",
    "    return WNLTokens"
   ]
  },
  {
   "cell_type": "code",
   "execution_count": 12,
   "metadata": {},
   "outputs": [
    {
     "name": "stderr",
     "output_type": "stream",
     "text": [
      "C:\\Users\\a92550\\AppData\\Roaming\\Python\\Python38\\site-packages\\sklearn\\feature_extraction\\text.py:396: UserWarning: Your stop_words may be inconsistent with your preprocessing. Tokenizing the stop words generated tokens ['alimentação', 'applicant', 'apply', 'aqui', 'brasil', 'es', 'forum', 'full', 'paulo', 'pay', 'plano', 'premium', 'refeição', 'scientist', 'seguro', 'share', 'strong', 'transporte', 'trend', 'try', 'vale', 'yes'] not in stop_words.\n",
      "  warnings.warn(\n"
     ]
    }
   ],
   "source": [
    "tfidf = TfidfVectorizer(max_df=0.9,min_df=3,stop_words=stopw,tokenizer=tokenize,ngram_range=(1, 2))\n",
    "dtmtfidf = tfidf.fit_transform(skills)\n"
   ]
  },
  {
   "cell_type": "code",
   "execution_count": 13,
   "metadata": {},
   "outputs": [
    {
     "name": "stdout",
     "output_type": "stream",
     "text": [
      "Wall time: 153 ms\n"
     ]
    },
    {
     "data": {
      "text/plain": [
       "LatentDirichletAllocation(n_components=1, random_state=42)"
      ]
     },
     "execution_count": 13,
     "metadata": {},
     "output_type": "execute_result"
    }
   ],
   "source": [
    "%%time\n",
    "LDA = LatentDirichletAllocation(n_components=1,random_state=42)\n",
    "LDA.fit(dtmtfidf)"
   ]
  },
  {
   "cell_type": "code",
   "execution_count": 14,
   "metadata": {},
   "outputs": [
    {
     "name": "stdout",
     "output_type": "stream",
     "text": [
      "Top 20 for topic 0\n",
      "['máquina', 'procedimentos', 'responsável', 'vendas', 'veterinária', 'loja', 'tosador', 'limpeza', 'tosas', 'tesoura', 'organização', 'auxiliar', 'função', 'médio completo', 'cliente', 'serviços', 'completo', 'pet shop', 'shop', 'clientes', 'ensino médio', 'médio', 'produtos', 'banho tosa', 'ensino', 'pet', 'atendimento', 'banho', 'animais', 'tosa']\n",
      "\n",
      "\n"
     ]
    },
    {
     "name": "stderr",
     "output_type": "stream",
     "text": [
      "C:\\Users\\a92550\\AppData\\Roaming\\Python\\Python38\\site-packages\\sklearn\\utils\\deprecation.py:87: FutureWarning: Function get_feature_names is deprecated; get_feature_names is deprecated in 1.0 and will be removed in 1.2. Please use get_feature_names_out instead.\n",
      "  warnings.warn(msg, category=FutureWarning)\n"
     ]
    }
   ],
   "source": [
    "for i,topic in enumerate(LDA.components_):\n",
    "    print(f'Top 20 for topic {i}')\n",
    "    print([tfidf.get_feature_names()[c] for c in topic.argsort()[-30:]])\n",
    "    print('\\n')"
   ]
  },
  {
   "cell_type": "code",
   "execution_count": null,
   "metadata": {},
   "outputs": [],
   "source": []
  },
  {
   "cell_type": "code",
   "execution_count": null,
   "metadata": {},
   "outputs": [],
   "source": []
  },
  {
   "cell_type": "code",
   "execution_count": null,
   "metadata": {},
   "outputs": [],
   "source": []
  },
  {
   "cell_type": "code",
   "execution_count": null,
   "metadata": {},
   "outputs": [],
   "source": []
  },
  {
   "cell_type": "code",
   "execution_count": null,
   "metadata": {},
   "outputs": [],
   "source": []
  },
  {
   "cell_type": "code",
   "execution_count": null,
   "metadata": {},
   "outputs": [],
   "source": []
  }
 ],
 "metadata": {
  "kernelspec": {
   "display_name": "Python 3",
   "language": "python",
   "name": "python3"
  },
  "language_info": {
   "codemirror_mode": {
    "name": "ipython",
    "version": 3
   },
   "file_extension": ".py",
   "mimetype": "text/x-python",
   "name": "python",
   "nbconvert_exporter": "python",
   "pygments_lexer": "ipython3",
   "version": "3.8.5"
  }
 },
 "nbformat": 4,
 "nbformat_minor": 4
}
