{
 "cells": [
  {
   "cell_type": "code",
   "execution_count": 1,
   "metadata": {},
   "outputs": [
    {
     "name": "stderr",
     "output_type": "stream",
     "text": [
      "c:\\users\\caio.santos\\appdata\\local\\programs\\python\\python37\\lib\\site-packages\\sklearn\\externals\\joblib\\__init__.py:15: DeprecationWarning: sklearn.externals.joblib is deprecated in 0.21 and will be removed in 0.23. Please import this functionality directly from joblib, which can be installed with: pip install joblib. If this warning is raised when loading pickled models, you may need to re-serialize those models with scikit-learn 0.21+.\n",
      "  warnings.warn(msg, category=DeprecationWarning)\n"
     ]
    }
   ],
   "source": [
    "import pandas as pd\n",
    "from sklearn.feature_extraction.text import TfidfVectorizer\n",
    "from sklearn.pipeline import Pipeline \n",
    "from sklearn.model_selection import train_test_split\n",
    "from sklearn.svm import LinearSVC\n",
    "import docx\n",
    "import os\n",
    "import pandas as pd\n",
    "import io\n",
    "from PIL import Image\n",
    "import pytesseract\n",
    "from wand.image import Image as wi\n",
    "import fnmatch\n",
    "import re\n",
    "import shutil\n",
    "from sklearn.externals import joblib"
   ]
  },
  {
   "cell_type": "code",
   "execution_count": 2,
   "metadata": {},
   "outputs": [],
   "source": [
    "import matplotlib.pyplot as plt\n",
    "import seaborn as sns"
   ]
  },
  {
   "cell_type": "code",
   "execution_count": 3,
   "metadata": {},
   "outputs": [],
   "source": [
    "def trainprepare(path):\n",
    "    os.chdir(path)\n",
    "\n",
    "    ndoc = 0\n",
    "    docnum = []\n",
    "    clausula = []\n",
    "    text = []\n",
    "    rex = re.compile('asdçlkasdçlkasdçlkasdçllkasdçlklasdçllkasdçllkasdçllkad')\n",
    "    for d in fnmatch.filter(os.listdir(), '*.docx'):\n",
    "        doc = docx.Document(d)\n",
    "        ndoc += 1\n",
    "        cl = 0\n",
    "        stringx = []\n",
    "        for p in doc.paragraphs:\n",
    "            stringx.append(p.text)\n",
    "\n",
    "        for string in re.split(rex, ''.join(stringx)):\n",
    "            cl += 1\n",
    "            docnum.append(ndoc)\n",
    "            clausula.append(cl - 1)\n",
    "            text.append(string)\n",
    "\n",
    "    data = {'Doc': docnum, 'clausula': clausula, 'Text': text}\n",
    "    df = pd.DataFrame(data=data)\n",
    "    return df\n",
    "\n",
    "\n",
    "def trainprepare_DF_series(data):\n",
    "    docnum = []\n",
    "    clausula = []\n",
    "    text = []\n",
    "\n",
    "    #rex = re.compile(r\"cl[á,a]usula\", flags=re.I)\n",
    "    rex = re.compile(r\"(par[á,a]grafo\\s\\d+?º)|(cl[á,a]usula)|(\\w+?:\\d+?\\.\\d+?\\.)\", flags=re.I)\n",
    "    ndoc = 0\n",
    "    for d in data:\n",
    "        ndoc += 1\n",
    "        cl = 0\n",
    "\n",
    "        for string in re.split(rex, d):\n",
    "            cl += 1\n",
    "            docnum.append(ndoc)\n",
    "            clausula.append(cl - 1)\n",
    "            text.append(string)\n",
    "\n",
    "    data = {'Doc': docnum, 'clausula': clausula, 'Text': text}\n",
    "    df = pd.DataFrame(data=data)\n",
    "    return df"
   ]
  },
  {
   "cell_type": "code",
   "execution_count": 4,
   "metadata": {},
   "outputs": [],
   "source": [
    "stopw = 'de a o que e do da em um para é com não uma os no se na por mais as dos como mas foi ao ele das tem à seu sua ou ser quando muito há nos já está eu também só pelo pela até isso ela entre era depois sem mesmo aos ter seus quem nas me esse eles estão você tinha foram essa num nem suas meu às minha têm numa pelos elas havia seja qual será nós tenho lhe deles essas esses pelas este fosse dele tu te vocês vos lhes meus minhas teu tua teus tuas nosso nossa nossos nossas dela delas esta estes estas aquele aquela aqueles aquelas isto aquilo estou está estamos estão estive esteve estivemos estiveram estava estávamos estavam estivera estivéramos esteja estejamos estejam estivesse estivéssemos estivessem estiver estivermos estiverem hei há havemos hão houve houvemos houveram houvera houvéramos haja hajamos hajam houvesse houvéssemos houvessem houver houvermos houverem houverei houverá houveremos houverão houveria houveríamos houveriam sou somos são era éramos eram fui foi fomos foram fora fôramos seja sejamos sejam fosse fôssemos fossem for formos forem serei será seremos serão seria seríamos seriam tenho tem temos tém tinha tínhamos tinham tive teve tivemos tiveram tivera tivéramos tenha tenhamos tenham tivesse tivéssemos tivessem tiver tivermos tiverem terei terá teremos terão teria teríamos teriam'.split()"
   ]
  },
  {
   "cell_type": "code",
   "execution_count": null,
   "metadata": {},
   "outputs": [],
   "source": []
  },
  {
   "cell_type": "code",
   "execution_count": null,
   "metadata": {},
   "outputs": [],
   "source": []
  },
  {
   "cell_type": "code",
   "execution_count": null,
   "metadata": {},
   "outputs": [],
   "source": []
  },
  {
   "cell_type": "code",
   "execution_count": null,
   "metadata": {},
   "outputs": [],
   "source": []
  },
  {
   "cell_type": "code",
   "execution_count": 5,
   "metadata": {},
   "outputs": [],
   "source": [
    "path = r\"C:\\Users\\caio.santos\\Desktop\\NLP IFRS 16\\Set IFRS 16 contracts.xlsx\"\n",
    "df = pd.read_excel(path, sheet_name=1)"
   ]
  },
  {
   "cell_type": "code",
   "execution_count": 6,
   "metadata": {},
   "outputs": [],
   "source": [
    "x = df['Text']\n",
    "y = df['Type']"
   ]
  },
  {
   "cell_type": "code",
   "execution_count": 7,
   "metadata": {},
   "outputs": [
    {
     "data": {
      "text/plain": [
       "'TERMO ADITIVO Nº 01 AO CONTRATO 4600048985  Pelo presente Instrumento Particular e na melhor forma de direito, de um lado:  |) VALE FERTILIZANTES S.A., empresa com sede na cidade de Uberaba, Estado de Minas Gerais, na Estrada da Cana, km 11, Bairro Industrial de Uberaba, inscrita no CNPJ sob o n. 33.931.486/0014-55, neste ato representada na forma de seu Estatuto Social, doravante denominada como “CONTRATANTE”,  e, de outro lado,  *  ) TGB LOGÍSTICA INDUSTRIAL EIRELI, com sede na cidade de Belo Horizonte, Estado de Minas Gerais, na Av. Heraclito Mourão de Miranda, 2949, Bairro Santa Terezinha, inscrita no CNPJ sob o nº 00.059.822/0001-48, neste ato representada na forma de seu contrato social, doravante denominada como “CONTRATADA”,  RESOLVEM celebrar o presente Termo Aditivo nº 01 ao Contrato 4600048985 firmado entre as PARTES no dia 27 de Agosto de 2014 (doravante “ADITIVO”, que se regerá pelas seguintes cláusulas e condições:  CLÁUSULA PRIMEIRA - ADITAMENTO  A A CONTRATANTE e a CONTRATADA resolvem alterar a(s) seguinte(s) cláusula(s) do Contrato 4600048985:  a) CLÁUSULA PRIMEIRA - OBJETO  ” Alteração dos itens 1.2, 1.2.1 € 1.2.1.1 em decorrência da substituição do Anexo ! para Anexo | - Memorial descritivo Rev.01 e do Anexo Il para Anexo Il — Planilha de Preços Unitários Rev.01, desde 01/01/2015.  b) CLÁUSULA TERCEIRA - PREÇOS ” Alteração do item 3.4 em decorrência da correção da fórmula paramétrica. c) CLÁUSULA QUARTA - OBRIGAÇÕES DA CONTRATADA  ” Alteração do item 4.1, xvi, em decorrência da substituição do Anexo | conforme item “a” acima, desde 01/01/2015.  1.2 Nos termos do presente acordo, a(s) cláusula(s) citada(s) em 1.1, passa(m) a viger, com a(s) seguinte(s) redação(ões):  “CLÁUSULA PRIMEIRA — OBJETO  1.2 Os documentos abaixo relacionados, devidamente rubricados pelas Partes, integram e constituem parte inseparável-do presente Contrato, prevalecendo, em caso de  Termo Aditivo nº 01 ao Contrato 4600048985  Página 1 de3 . a 7 E Nrcontradição, as disposições deste Contrato em relação às dos Anexos, que obedecerão a seguinte ordem de prevalência:                      Anexo | Memorial descritivo Rev.01  Planilha de Preços Unitários Rev.01 Anexo ll Condições da CONTRATADA      1.2.1 As quantidades expressas no Anexo Il-Rev.01 são uma mera estimativa de execução dos SERVIÇOS durante a vigência do Contrato, podendo sofrer variações para mais ou para menos, não se constituindo compromisso de execução pela CONTRATANTE.  1.2.1.1 Não caberá a CONTRATADA pleitear a revisão dos preços pactuados no Anexo ll- Rev.01, caso a CONTRATANTE não demande a execução dos SERVIÇOS nas quantidades estimadas lá indicadas.”  “CLÁUSULA TERCEIRA - PREÇOS  3.4 O preço estipulado para a prestação dos serviços, estabelecido na Cláusula Terceira, deverá ser reajustado a cada período de 12 (doze) meses, contados a partir da data do início da vigência deste Contrato, objetivando adequá-lo à realidade econômico/financeira, de acordo com a fórmula paramétrica abaixo especificada:  K = H0,21\"UA1N/AO)-1) + 0,35\"(B1/BO)-1) + 0,17(C1CO)-1) + 0,02%(D1/DO)-1) + 0,11*(E1/E0)-1) + 0,11*((F1/FO)-1) + 0,03%(G1/60)-1)]100) — 1, onde:  K= Percentual de Reajuste  A = Mão de Obra - Índice Nacional de Preços ao Consumidor — INPC (IBGE)  B = Equipamentos — Índice Nacional de Custo da Construção — INCC (Col. 160914 — FGV) C = Combustíveis — Índice de Preços ap Produtor Amplo — IPA Óleo Diesel (Cód. 23204 — FGV)  D = Lubrificantes/Óleos — Índice de Preços ao Produtor Amplo — IPA Produtos derivados do petróleo (Cód. 232- FGV)  E = Peças -— Índice de Preços ao Produtor Amplo — IPA Caminhões e ônibus (Cód. 342 — FGV)  F = Oficina — Índice Geral de Preços do Mercado — IGP-M (FGV)  G = Material Rodante — Índice de Preços ao Produtor Amplo — IPA Pneus para ônibus e caminhões (Cód. 25102 — FGV)  O = Mês anterior da repactuação  1 = Mês da Data Base do Contrato.”  “CLÁUSULA QUARTA - OBRIGAÇÕES DA CONTRATADA  (...)  (xvi) obedecer todas as disposições constantes das últimas revisões das normas internas  Termo Aditivo nº 01 ao Contrato 4600048985  Página 2 de 3 =da CONTRATANTE, PRO-3209-74-24-01, PRO-3209-74-24-02, PRO-3209-74-24-03, PGS-3209-82-04, PGS-3209-74-24, PGS-3209-51-01, respectivamente, Instruções de Meio Ambiente para Empresas Contratadas, Instruções de Saúde e Higiene Ocupacional para Contratadas, Instruções de Segurança do Trabalho para Contratadas, Avaliação do Atendimento à Performance das Contratadas, Gestão em Saúde, Segurança e Meio Ambiente para Empresas Contratadas, Política de Consequência em Saúde, Segurança e Meio Ambiente e, se for o caso, a Instrução para Requisitos de Atividades Críticas - INS- 0041, as quais estarão relacionadas no Anexo | - Memorial Descritivo Rev.01, bem como declara conhecer a Política de Dependência Química da Contratante, comprometendo-se a contribuir com a implementação da boa prática, impedindo que seus empregados acessem as Unidades Empresariais sob o efeito de álcool e drogas, responsabilizando-se pelo encaminhamento | destes, todas disponibilizadas no ambiente | eletrônico http:/Awwyw. valefertilizantes.com.br/esuprir\\'instruçoes.asp. Para tanto, a CONTRA TADA declara que conhece o teor das referidas Instruções, bem como que as mesmas fazem parte integrante do presente Contrato, e ainda que poderá dispor e consultar das mencionadas Instruções através do endereço eletrônico indicado neste item.”  CLÁUSULA SEGUNDA - EFEITOS  21 As Partes concordam que todos os efeitos deste Contrato retroagirão às datas indicadas no item 1.1, reconhecendo todos os direitos e deveres praticados com base nas condições deste Instrumento.  CLÁUSULA TERCEIRA - RATIFICAÇÕES  31 As partes ratificam todas as demais cláusulas, itens e subitens do Contrato ora aditado, no que não conflitarem com as presentes alterações.  E, por estarem justas e ajustadas, assinam o presente ADITIVO em 2 (duas) vias de igual teor, na presença das testemunhas abaixo.  São Paulo(SP), 04 de maio de 2015.  VALE FERTILIZANTES S.A.               Testemunhas:  1) 2)  Ula RIé o Nome: ome:-Dam el. Pascila vieira fodniques RG.: RG. n6 2.055. 44?  RSF ,  Termo Aditivo nº 01 ao Contrato 4600048985 Página 3 de 3'"
      ]
     },
     "execution_count": 7,
     "metadata": {},
     "output_type": "execute_result"
    }
   ],
   "source": [
    "x[1]"
   ]
  },
  {
   "cell_type": "code",
   "execution_count": null,
   "metadata": {},
   "outputs": [],
   "source": []
  },
  {
   "cell_type": "code",
   "execution_count": null,
   "metadata": {},
   "outputs": [],
   "source": []
  },
  {
   "cell_type": "code",
   "execution_count": null,
   "metadata": {},
   "outputs": [],
   "source": []
  },
  {
   "cell_type": "code",
   "execution_count": 8,
   "metadata": {},
   "outputs": [],
   "source": [
    "x_train, x_test, y_train, y_test = train_test_split(x, y, test_size=0.1, random_state=102)"
   ]
  },
  {
   "cell_type": "code",
   "execution_count": 9,
   "metadata": {},
   "outputs": [],
   "source": [
    "SVCmodel = Pipeline([('vectorizer', TfidfVectorizer(stop_words=stopw, max_df=0.9, min_df=3)),('classify', LinearSVC())])\n"
   ]
  },
  {
   "cell_type": "code",
   "execution_count": null,
   "metadata": {},
   "outputs": [],
   "source": []
  },
  {
   "cell_type": "code",
   "execution_count": 10,
   "metadata": {},
   "outputs": [],
   "source": [
    "SVCmodel.fit(x,y)\n",
    "predict = SVCmodel.predict(x)"
   ]
  },
  {
   "cell_type": "code",
   "execution_count": null,
   "metadata": {},
   "outputs": [],
   "source": []
  },
  {
   "cell_type": "code",
   "execution_count": null,
   "metadata": {},
   "outputs": [],
   "source": []
  },
  {
   "cell_type": "code",
   "execution_count": 11,
   "metadata": {},
   "outputs": [],
   "source": [
    "from sklearn.metrics import classification_report, confusion_matrix"
   ]
  },
  {
   "cell_type": "code",
   "execution_count": 12,
   "metadata": {},
   "outputs": [
    {
     "data": {
      "text/plain": [
       "<matplotlib.axes._subplots.AxesSubplot at 0x243e08609c8>"
      ]
     },
     "execution_count": 12,
     "metadata": {},
     "output_type": "execute_result"
    },
    {
     "data": {
      "image/png": "[encoded data removed]",
      "text/plain": [
       "<Figure size 432x288 with 2 Axes>"
      ]
     },
     "metadata": {
      "needs_background": "light"
     },
     "output_type": "display_data"
    }
   ],
   "source": [
    "sns.heatmap(confusion_matrix(predict, y), annot=True)"
   ]
  },
  {
   "cell_type": "code",
   "execution_count": 13,
   "metadata": {},
   "outputs": [
    {
     "name": "stdout",
     "output_type": "stream",
     "text": [
      "              precision    recall  f1-score   support\n",
      "\n",
      "        ADIT       1.00      1.00      1.00        81\n",
      "       ANEXO       1.00      1.00      1.00        30\n",
      "      MASTER       1.00      1.00      1.00       117\n",
      "\n",
      "    accuracy                           1.00       228\n",
      "   macro avg       1.00      1.00      1.00       228\n",
      "weighted avg       1.00      1.00      1.00       228\n",
      "\n"
     ]
    }
   ],
   "source": [
    "print(classification_report(predict,y))"
   ]
  },
  {
   "cell_type": "code",
   "execution_count": 14,
   "metadata": {},
   "outputs": [],
   "source": [
    "df['Cl class'] = predict"
   ]
  },
  {
   "cell_type": "code",
   "execution_count": null,
   "metadata": {},
   "outputs": [],
   "source": []
  },
  {
   "cell_type": "code",
   "execution_count": 15,
   "metadata": {},
   "outputs": [],
   "source": [
    "from sklearn.externals import joblib"
   ]
  },
  {
   "cell_type": "code",
   "execution_count": 16,
   "metadata": {},
   "outputs": [
    {
     "data": {
      "text/plain": [
       "['Master_aditiv_classifier']"
      ]
     },
     "execution_count": 16,
     "metadata": {},
     "output_type": "execute_result"
    }
   ],
   "source": [
    "joblib.dump(SVCmodel,'Master_aditiv_classifier')"
   ]
  },
  {
   "cell_type": "code",
   "execution_count": 19,
   "metadata": {},
   "outputs": [],
   "source": [
    "model = joblib.load('Master_aditiv_classifier')"
   ]
  },
  {
   "cell_type": "markdown",
   "metadata": {},
   "source": []
  },
  {
   "cell_type": "code",
   "execution_count": 20,
   "metadata": {},
   "outputs": [],
   "source": [
    "pred = model.predict(x)"
   ]
  },
  {
   "cell_type": "code",
   "execution_count": null,
   "metadata": {},
   "outputs": [],
   "source": []
  },
  {
   "cell_type": "code",
   "execution_count": null,
   "metadata": {},
   "outputs": [],
   "source": []
  },
  {
   "cell_type": "code",
   "execution_count": 111,
   "metadata": {},
   "outputs": [],
   "source": []
  },
  {
   "cell_type": "code",
   "execution_count": null,
   "metadata": {},
   "outputs": [],
   "source": []
  },
  {
   "cell_type": "code",
   "execution_count": null,
   "metadata": {},
   "outputs": [],
   "source": []
  }
 ],
 "metadata": {
  "kernelspec": {
   "display_name": "Python 3",
   "language": "python",
   "name": "python3"
  },
  "language_info": {
   "codemirror_mode": {
    "name": "ipython",
    "version": 3
   },
   "file_extension": ".py",
   "mimetype": "text/x-python",
   "name": "python",
   "nbconvert_exporter": "python",
   "pygments_lexer": "ipython3",
   "version": "3.7.4"
  }
 },
 "nbformat": 4,
 "nbformat_minor": 2
}
